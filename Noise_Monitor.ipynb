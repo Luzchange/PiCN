{
  "nbformat": 4,
  "nbformat_minor": 0,
  "metadata": {
    "colab": {
      "provenance": [],
      "authorship_tag": "ABX9TyO6oF0nhj9133iKvKP7s/hF",
      "include_colab_link": true
    },
    "kernelspec": {
      "name": "python3",
      "display_name": "Python 3"
    },
    "language_info": {
      "name": "python"
    }
  },
  "cells": [
    {
      "cell_type": "markdown",
      "metadata": {
        "id": "view-in-github",
        "colab_type": "text"
      },
      "source": [
        "<a href=\"https://colab.research.google.com/github/Luzchange/PiCN/blob/main/Noise_Monitor.ipynb\" target=\"_parent\"><img src=\"https://colab.research.google.com/assets/colab-badge.svg\" alt=\"Open In Colab\"/></a>"
      ]
    },
    {
      "cell_type": "code",
      "execution_count": null,
      "metadata": {
        "id": "-WLgAVPbQbgy"
      },
      "outputs": [],
      "source": []
    },
    {
      "cell_type": "markdown",
      "source": [
        "import pysoundmeter\n",
        "\n",
        "def main():\n",
        "    # Create a sound level meter object.\n",
        "    sound_level_meter = pysoundmeter.SoundMeter()\n",
        "\n",
        "    # Start measuring the sound level.\n",
        "    sound_level_meter.start()\n",
        "\n",
        "    # Loop forever, measuring the sound level and saving it to a file.\n",
        "    while True:\n",
        "        # Get the sound level in decibels (dB).\n",
        "        sound_level_db = sound_level_meter.get_rms()\n",
        "\n",
        "        # Save the sound level data to a file.\n",
        "        with open(\"noise_level.csv\", \"a\") as f:\n",
        "            f.write(f\"{sound_level_db}\\n\")\n",
        "\n",
        "        # Check if the sound level exceeds a certain threshold.\n",
        "        if sound_level_db > 80:\n",
        "            # Send an email alert.\n",
        "            send_email_alert()\n",
        "\n",
        "if __name__ == \"__main__\":\n",
        "    main()\n"
      ],
      "metadata": {
        "id": "FkDyHzsaQlPf"
      }
    }
  ]
}